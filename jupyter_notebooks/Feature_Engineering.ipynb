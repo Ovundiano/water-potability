{
  "cells": [
    {
      "cell_type": "markdown",
      "metadata": {
        "id": "0aStgWSO0E0E"
      },
      "source": [
        "# **WATER POTABILITY APP - FEATURE_ENGINEERING**"
      ]
    },
    {
      "cell_type": "markdown",
      "metadata": {
        "id": "1eLEkw5O0ECa"
      },
      "source": [
        "## Objectives\n",
        "\n",
        "* Create derived features through feature engineering\n",
        "\n",
        "* Perform dimensionality reduction using PCA\n",
        "\n",
        "* Select optimal features for modeling\n",
        "\n",
        "## Inputs\n",
        "\n",
        "*  Processed dataset: data/water_potability_processed.csv\n",
        "\n",
        "## Outputs\n",
        "\n",
        "* Engineered feature dataset: data/water_potability_engineered.csv\n",
        "\n",
        "* PCA transformation object: models/pca_transformer.pkl\n",
        "\n",
        "* Feature importance rankings (saved as CSV)\n",
        "\n",
        "## Additional Comments\n",
        "\n",
        "* Creates interaction terms and ratio features\n",
        "\n",
        "* Includes ANOVA-based feature selection\n",
        "\n",
        "* Documents variance explained by principal components\n"
      ]
    },
    {
      "cell_type": "markdown",
      "metadata": {
        "id": "9uWZXH9LwoQg"
      },
      "source": [
        "---"
      ]
    },
    {
      "cell_type": "markdown",
      "metadata": {
        "id": "cqP-UeN-z3i2"
      },
      "source": [
        "# Import Packages"
      ]
    },
    {
      "cell_type": "markdown",
      "metadata": {},
      "source": [
        "### Install Dependencies"
      ]
    },
    {
      "cell_type": "markdown",
      "metadata": {
        "id": "aOGIGS-uz3i2"
      },
      "source": [
        "We need to change the working directory from its current folder to its parent folder\n",
        "* We access the current directory with os.getcwd()"
      ]
    },
    {
      "cell_type": "code",
      "execution_count": 1,
      "metadata": {
        "id": "wZfF_j-Bz3i4",
        "outputId": "66943449-1436-4c3d-85c7-b85f9f78349b"
      },
      "outputs": [
        {
          "data": {
            "text/plain": [
              "'c:\\\\Users\\\\User\\\\Downloads\\\\water-potability\\\\water-potability\\\\jupyter_notebooks'"
            ]
          },
          "execution_count": 1,
          "metadata": {},
          "output_type": "execute_result"
        }
      ],
      "source": [
        "import os\n",
        "current_dir = os.getcwd()\n",
        "current_dir"
      ]
    },
    {
      "cell_type": "markdown",
      "metadata": {
        "id": "9MWW8E7lz3i7"
      },
      "source": [
        "We want to make the parent of the current directory the new current directory\n",
        "* os.path.dirname() gets the parent directory\n",
        "* os.chir() defines the new current directory"
      ]
    },
    {
      "cell_type": "code",
      "execution_count": 2,
      "metadata": {
        "id": "TwHsQRWjz3i9",
        "outputId": "86849db3-cd2f-4cc5-ebb8-2d0caafa1a2c"
      },
      "outputs": [
        {
          "name": "stdout",
          "output_type": "stream",
          "text": [
            "You set a new current directory\n"
          ]
        }
      ],
      "source": [
        "os.chdir(os.path.dirname(current_dir))\n",
        "print(\"You set a new current directory\")"
      ]
    },
    {
      "cell_type": "markdown",
      "metadata": {
        "id": "M_xPk_Ijz3i-"
      },
      "source": [
        "Confirm the new current directory"
      ]
    },
    {
      "cell_type": "code",
      "execution_count": 3,
      "metadata": {
        "id": "vz3S-_kjz3jA",
        "outputId": "00b79ae4-75d0-4a96-d193-ac9ef9847ea2"
      },
      "outputs": [
        {
          "data": {
            "text/plain": [
              "'c:\\\\Users\\\\User\\\\Downloads\\\\water-potability\\\\water-potability'"
            ]
          },
          "execution_count": 3,
          "metadata": {},
          "output_type": "execute_result"
        }
      ],
      "source": [
        "current_dir = os.getcwd()\n",
        "current_dir"
      ]
    },
    {
      "cell_type": "markdown",
      "metadata": {
        "id": "-mavJ8DibrcQ"
      },
      "source": [
        "# Set Data Directory"
      ]
    },
    {
      "cell_type": "markdown",
      "metadata": {},
      "source": [
        "### Initial Setup"
      ]
    },
    {
      "cell_type": "code",
      "execution_count": 4,
      "metadata": {},
      "outputs": [],
      "source": [
        "import pandas as pd\n",
        "import numpy as np\n",
        "import matplotlib.pyplot as plt\n",
        "from sklearn.feature_selection import SelectKBest, f_classif\n",
        "from sklearn.decomposition import PCA\n",
        "from sklearn.preprocessing import PolynomialFeatures\n",
        "\n",
        "# Load data\n",
        "df = pd.read_csv(\"../data/water_potability.csv\")\n",
        "df = df.dropna()"
      ]
    },
    {
      "cell_type": "markdown",
      "metadata": {},
      "source": [
        "### Feature Creation"
      ]
    },
    {
      "cell_type": "code",
      "execution_count": 5,
      "metadata": {},
      "outputs": [],
      "source": [
        "df['ph_Hardness'] = df['ph'] * df['Hardness']\n",
        "df['Solids_Chloramines'] = df['Solids'] / (df['Chloramines'] + 1e-6)\n",
        "\n",
        "df['TDS_Conductivity'] = df['Solids'] / (df['Conductivity'] + 1e-6)\n",
        "df['Organic_Carbon_ratio'] = df['Organic_carbon'] / (df['Trihalomethanes'] + 1e-6)"
      ]
    },
    {
      "cell_type": "markdown",
      "metadata": {},
      "source": [
        "### Feature Selection"
      ]
    },
    {
      "cell_type": "code",
      "execution_count": 6,
      "metadata": {},
      "outputs": [
        {
          "data": {
            "text/html": [
              "<style type=\"text/css\">\n",
              "#T_ffae0_row0_col1 {\n",
              "  background-color: #fde725;\n",
              "  color: #000000;\n",
              "}\n",
              "#T_ffae0_row1_col1 {\n",
              "  background-color: #25838e;\n",
              "  color: #f1f1f1;\n",
              "}\n",
              "#T_ffae0_row2_col1 {\n",
              "  background-color: #26828e;\n",
              "  color: #f1f1f1;\n",
              "}\n",
              "#T_ffae0_row3_col1 {\n",
              "  background-color: #46307e;\n",
              "  color: #f1f1f1;\n",
              "}\n",
              "#T_ffae0_row4_col1 {\n",
              "  background-color: #482979;\n",
              "  color: #f1f1f1;\n",
              "}\n",
              "#T_ffae0_row5_col1, #T_ffae0_row6_col1 {\n",
              "  background-color: #48186a;\n",
              "  color: #f1f1f1;\n",
              "}\n",
              "#T_ffae0_row7_col1 {\n",
              "  background-color: #481769;\n",
              "  color: #f1f1f1;\n",
              "}\n",
              "#T_ffae0_row8_col1 {\n",
              "  background-color: #481668;\n",
              "  color: #f1f1f1;\n",
              "}\n",
              "#T_ffae0_row9_col1 {\n",
              "  background-color: #46085c;\n",
              "  color: #f1f1f1;\n",
              "}\n",
              "#T_ffae0_row10_col1 {\n",
              "  background-color: #450559;\n",
              "  color: #f1f1f1;\n",
              "}\n",
              "#T_ffae0_row11_col1, #T_ffae0_row12_col1 {\n",
              "  background-color: #440154;\n",
              "  color: #f1f1f1;\n",
              "}\n",
              "</style>\n",
              "<table id=\"T_ffae0\">\n",
              "  <thead>\n",
              "    <tr>\n",
              "      <th class=\"blank level0\" >&nbsp;</th>\n",
              "      <th id=\"T_ffae0_level0_col0\" class=\"col_heading level0 col0\" >Feature</th>\n",
              "      <th id=\"T_ffae0_level0_col1\" class=\"col_heading level0 col1\" >Score</th>\n",
              "    </tr>\n",
              "  </thead>\n",
              "  <tbody>\n",
              "    <tr>\n",
              "      <th id=\"T_ffae0_level0_row0\" class=\"row_heading level0 row0\" >10</th>\n",
              "      <td id=\"T_ffae0_row0_col0\" class=\"data row0 col0\" >Solids_Chloramines</td>\n",
              "      <td id=\"T_ffae0_row0_col1\" class=\"data row0 col1\" >7.519411</td>\n",
              "    </tr>\n",
              "    <tr>\n",
              "      <th id=\"T_ffae0_level0_row1\" class=\"row_heading level0 row1\" >11</th>\n",
              "      <td id=\"T_ffae0_row1_col0\" class=\"data row1 col0\" >TDS_Conductivity</td>\n",
              "      <td id=\"T_ffae0_row1_col1\" class=\"data row1 col1\" >3.378468</td>\n",
              "    </tr>\n",
              "    <tr>\n",
              "      <th id=\"T_ffae0_level0_row2\" class=\"row_heading level0 row2\" >2</th>\n",
              "      <td id=\"T_ffae0_row2_col0\" class=\"data row2 col0\" >Solids</td>\n",
              "      <td id=\"T_ffae0_row2_col1\" class=\"data row2 col1\" >3.329175</td>\n",
              "    </tr>\n",
              "    <tr>\n",
              "      <th id=\"T_ffae0_level0_row3\" class=\"row_heading level0 row3\" >8</th>\n",
              "      <td id=\"T_ffae0_row3_col0\" class=\"data row3 col0\" >Turbidity</td>\n",
              "      <td id=\"T_ffae0_row3_col1\" class=\"data row3 col1\" >1.034145</td>\n",
              "    </tr>\n",
              "    <tr>\n",
              "      <th id=\"T_ffae0_level0_row4\" class=\"row_heading level0 row4\" >3</th>\n",
              "      <td id=\"T_ffae0_row4_col0\" class=\"data row4 col0\" >Chloramines</td>\n",
              "      <td id=\"T_ffae0_row4_col1\" class=\"data row4 col1\" >0.868179</td>\n",
              "    </tr>\n",
              "    <tr>\n",
              "      <th id=\"T_ffae0_level0_row5\" class=\"row_heading level0 row5\" >6</th>\n",
              "      <td id=\"T_ffae0_row5_col0\" class=\"data row5 col0\" >Organic_carbon</td>\n",
              "      <td id=\"T_ffae0_row5_col1\" class=\"data row5 col1\" >0.486964</td>\n",
              "    </tr>\n",
              "    <tr>\n",
              "      <th id=\"T_ffae0_level0_row6\" class=\"row_heading level0 row6\" >5</th>\n",
              "      <td id=\"T_ffae0_row6_col0\" class=\"data row6 col0\" >Conductivity</td>\n",
              "      <td id=\"T_ffae0_row6_col1\" class=\"data row6 col1\" >0.482512</td>\n",
              "    </tr>\n",
              "    <tr>\n",
              "      <th id=\"T_ffae0_level0_row7\" class=\"row_heading level0 row7\" >4</th>\n",
              "      <td id=\"T_ffae0_row7_col0\" class=\"data row7 col0\" >Sulfate</td>\n",
              "      <td id=\"T_ffae0_row7_col1\" class=\"data row7 col1\" >0.470591</td>\n",
              "    </tr>\n",
              "    <tr>\n",
              "      <th id=\"T_ffae0_level0_row8\" class=\"row_heading level0 row8\" >0</th>\n",
              "      <td id=\"T_ffae0_row8_col0\" class=\"data row8 col0\" >ph</td>\n",
              "      <td id=\"T_ffae0_row8_col1\" class=\"data row8 col1\" >0.424234</td>\n",
              "    </tr>\n",
              "    <tr>\n",
              "      <th id=\"T_ffae0_level0_row9\" class=\"row_heading level0 row9\" >7</th>\n",
              "      <td id=\"T_ffae0_row9_col0\" class=\"data row9 col0\" >Trihalomethanes</td>\n",
              "      <td id=\"T_ffae0_row9_col1\" class=\"data row9 col1\" >0.171691</td>\n",
              "    </tr>\n",
              "    <tr>\n",
              "      <th id=\"T_ffae0_level0_row10\" class=\"row_heading level0 row10\" >12</th>\n",
              "      <td id=\"T_ffae0_row10_col0\" class=\"data row10 col0\" >Organic_Carbon_ratio</td>\n",
              "      <td id=\"T_ffae0_row10_col1\" class=\"data row10 col1\" >0.097229</td>\n",
              "    </tr>\n",
              "    <tr>\n",
              "      <th id=\"T_ffae0_level0_row11\" class=\"row_heading level0 row11\" >1</th>\n",
              "      <td id=\"T_ffae0_row11_col0\" class=\"data row11 col0\" >Hardness</td>\n",
              "      <td id=\"T_ffae0_row11_col1\" class=\"data row11 col1\" >0.004551</td>\n",
              "    </tr>\n",
              "    <tr>\n",
              "      <th id=\"T_ffae0_level0_row12\" class=\"row_heading level0 row12\" >9</th>\n",
              "      <td id=\"T_ffae0_row12_col0\" class=\"data row12 col0\" >ph_Hardness</td>\n",
              "      <td id=\"T_ffae0_row12_col1\" class=\"data row12 col1\" >0.003988</td>\n",
              "    </tr>\n",
              "  </tbody>\n",
              "</table>\n"
            ],
            "text/plain": [
              "<pandas.io.formats.style.Styler at 0x21142d5e4b0>"
            ]
          },
          "execution_count": 6,
          "metadata": {},
          "output_type": "execute_result"
        }
      ],
      "source": [
        "# ANOVA feature selection\n",
        "X = df.drop('Potability', axis=1)\n",
        "y = df['Potability']\n",
        "\n",
        "selector = SelectKBest(f_classif, k='all')\n",
        "selector.fit(X, y)\n",
        "\n",
        "# Display feature scores\n",
        "scores = pd.DataFrame({'Feature': X.columns, 'Score': selector.scores_})\n",
        "scores.sort_values('Score', ascending=False).style.background_gradient(cmap='viridis')"
      ]
    },
    {
      "cell_type": "markdown",
      "metadata": {},
      "source": [
        "### Dimensionality Reduction"
      ]
    },
    {
      "cell_type": "code",
      "execution_count": 7,
      "metadata": {},
      "outputs": [
        {
          "data": {
            "image/png": "[encoded data removed]",
            "text/plain": [
              "<Figure size 1000x600 with 1 Axes>"
            ]
          },
          "metadata": {},
          "output_type": "display_data"
        },
        {
          "name": "stdout",
          "output_type": "stream",
          "text": [
            "Original features: 13, Polynomial features: 91\n"
          ]
        }
      ],
      "source": [
        "# PCA Analysis\n",
        "pca = PCA(n_components=0.95)\n",
        "X_pca = pca.fit_transform(X)\n",
        "\n",
        "# Plot explained variance\n",
        "plt.figure(figsize=(10, 6))\n",
        "plt.bar(range(pca.n_components_), pca.explained_variance_ratio_)\n",
        "plt.xlabel('Principal Component')\n",
        "plt.ylabel('Variance Explained')\n",
        "plt.title('PCA Explained Variance')\n",
        "plt.show()\n",
        "\n",
        "# Create polynomial features\n",
        "poly = PolynomialFeatures(degree=2, interaction_only=True, include_bias=False)\n",
        "X_poly = poly.fit_transform(X)\n",
        "print(f\"Original features: {X.shape[1]}, Polynomial features: {X_poly.shape[1]}\")"
      ]
    },
    {
      "cell_type": "markdown",
      "metadata": {
        "id": "ZY3l0-AxO93d"
      },
      "source": [
        "---"
      ]
    },
    {
      "cell_type": "markdown",
      "metadata": {
        "id": "uFQo3ycuO-v6"
      },
      "source": [
        "# Section 2"
      ]
    },
    {
      "cell_type": "markdown",
      "metadata": {},
      "source": [
        "---"
      ]
    },
    {
      "cell_type": "markdown",
      "metadata": {
        "id": "ltNetd085qHf"
      },
      "source": [
        "# Push files to Repo"
      ]
    },
    {
      "cell_type": "markdown",
      "metadata": {},
      "source": [
        "* If you do not need to push files to Repo, you may replace this section with \"Conclusions and Next Steps\" and state your conclusions and next steps."
      ]
    },
    {
      "cell_type": "markdown",
      "metadata": {},
      "source": [
        "## Push Generated/new files from this section to your Github Repo"
      ]
    },
    {
      "cell_type": "markdown",
      "metadata": {},
      "source": [
        "* Git add ."
      ]
    },
    {
      "cell_type": "code",
      "execution_count": 8,
      "metadata": {},
      "outputs": [],
      "source": [
        "!git add ."
      ]
    },
    {
      "cell_type": "markdown",
      "metadata": {},
      "source": [
        "* Git commit"
      ]
    },
    {
      "cell_type": "code",
      "execution_count": 9,
      "metadata": {},
      "outputs": [
        {
          "name": "stdout",
          "output_type": "stream",
          "text": [
            "[main 7fcac1c] Aded Feature_Engineering notebook\n",
            " 1 file changed, 0 insertions(+), 0 deletions(-)\n",
            " rename jupyter_notebooks/{Feature_Experimenting.ipynb => Feature_Engineering.ipynb} (100%)\n"
          ]
        }
      ],
      "source": [
        "!git commit -m \"Aded Feature_Engineering notebook\""
      ]
    },
    {
      "cell_type": "markdown",
      "metadata": {},
      "source": [
        "* Git push"
      ]
    },
    {
      "cell_type": "code",
      "execution_count": 10,
      "metadata": {},
      "outputs": [
        {
          "name": "stderr",
          "output_type": "stream",
          "text": [
            "To https://github.com/Ovundiano/water-potability.git\n",
            "   da16642..7fcac1c  main -> main\n"
          ]
        }
      ],
      "source": [
        "!git push origin main"
      ]
    },
    {
      "cell_type": "code",
      "execution_count": 13,
      "metadata": {
        "id": "aKlnIozA4eQO",
        "outputId": "fd09bc1f-adb1-4511-f6ce-492a6af570c0"
      },
      "outputs": [
        {
          "name": "stdout",
          "output_type": "stream",
          "text": [
            "✅ Output directory 'outputs' is ready for use.\n"
          ]
        }
      ],
      "source": [
        "import os\n",
        "\n",
        "output_dir = 'outputs'\n",
        "\n",
        "try:\n",
        "    os.makedirs(output_dir, exist_ok=True)\n",
        "    print(f\"✅ Output directory '{output_dir}' is ready for use.\")\n",
        "except Exception as e:\n",
        "    print(f\"❌ Failed to create output directory: {e}\")\n"
      ]
    }
  ],
  "metadata": {
    "accelerator": "GPU",
    "colab": {
      "name": "Data Practitioner Jupyter Notebook.ipynb",
      "provenance": [],
      "toc_visible": true
    },
    "kernelspec": {
      "display_name": ".venv",
      "language": "python",
      "name": "python3"
    },
    "language_info": {
      "codemirror_mode": {
        "name": "ipython",
        "version": 3
      },
      "file_extension": ".py",
      "mimetype": "text/x-python",
      "name": "python",
      "nbconvert_exporter": "python",
      "pygments_lexer": "ipython3",
      "version": "3.12.8"
    },
    "orig_nbformat": 2
  },
  "nbformat": 4,
  "nbformat_minor": 2
}
