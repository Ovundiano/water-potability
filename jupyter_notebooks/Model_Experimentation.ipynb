{
  "cells": [
    {
      "cell_type": "markdown",
      "metadata": {
        "id": "0aStgWSO0E0E"
      },
      "source": [
        "# **WATER POTABILITY APP - MODEL_EXPERIMENTATION**"
      ]
    },
    {
      "cell_type": "markdown",
      "metadata": {
        "id": "1eLEkw5O0ECa"
      },
      "source": [
        "## Objectives\n",
        "\n",
        "* Train and compare multiple classification models\n",
        "\n",
        "* Optimize hyperparameters using GridSearchCV\n",
        "\n",
        "* Interpret model decisions using SHAP values\n",
        "\n",
        "## Inputs\n",
        "\n",
        "* Engineered dataset: data/water_potability_engineered.csv \n",
        "\n",
        "## Outputs\n",
        "\n",
        "* Trained model objects (saved in models/ directory)\n",
        "\n",
        "* Hyperparameter tuning results (printed in notebook)\n",
        "\n",
        "* SHAP analysis visualizations (saved as PNG)\n",
        "\n",
        "## Additional Comments\n",
        "\n",
        "* Benchmarks 4+ model architectures\n",
        "\n",
        "* Includes ROC curve analysis\n",
        "\n",
        "* Provides model explainability insights\n"
      ]
    },
    {
      "cell_type": "markdown",
      "metadata": {
        "id": "9uWZXH9LwoQg"
      },
      "source": [
        "---"
      ]
    },
    {
      "cell_type": "markdown",
      "metadata": {
        "id": "cqP-UeN-z3i2"
      },
      "source": [
        "# Import Packages"
      ]
    },
    {
      "cell_type": "markdown",
      "metadata": {},
      "source": [
        "### Install Dependencies"
      ]
    },
    {
      "cell_type": "markdown",
      "metadata": {
        "id": "aOGIGS-uz3i2"
      },
      "source": [
        "We need to change the working directory from its current folder to its parent folder\n",
        "* We access the current directory with os.getcwd()"
      ]
    },
    {
      "cell_type": "code",
      "execution_count": 22,
      "metadata": {
        "id": "wZfF_j-Bz3i4",
        "outputId": "66943449-1436-4c3d-85c7-b85f9f78349b"
      },
      "outputs": [
        {
          "data": {
            "text/plain": [
              "'c:\\\\Users\\\\User\\\\Downloads\\\\water-potability'"
            ]
          },
          "execution_count": 22,
          "metadata": {},
          "output_type": "execute_result"
        }
      ],
      "source": [
        "import os\n",
        "current_dir = os.getcwd()\n",
        "current_dir"
      ]
    },
    {
      "cell_type": "markdown",
      "metadata": {
        "id": "9MWW8E7lz3i7"
      },
      "source": [
        "We want to make the parent of the current directory the new current directory\n",
        "* os.path.dirname() gets the parent directory\n",
        "* os.chir() defines the new current directory"
      ]
    },
    {
      "cell_type": "code",
      "execution_count": 23,
      "metadata": {
        "id": "TwHsQRWjz3i9",
        "outputId": "86849db3-cd2f-4cc5-ebb8-2d0caafa1a2c"
      },
      "outputs": [
        {
          "name": "stdout",
          "output_type": "stream",
          "text": [
            "You set a new current directory\n"
          ]
        }
      ],
      "source": [
        "os.chdir(os.path.dirname(current_dir))\n",
        "print(\"You set a new current directory\")"
      ]
    },
    {
      "cell_type": "markdown",
      "metadata": {
        "id": "M_xPk_Ijz3i-"
      },
      "source": [
        "Confirm the new current directory"
      ]
    },
    {
      "cell_type": "code",
      "execution_count": 24,
      "metadata": {
        "id": "vz3S-_kjz3jA",
        "outputId": "00b79ae4-75d0-4a96-d193-ac9ef9847ea2"
      },
      "outputs": [
        {
          "data": {
            "text/plain": [
              "'c:\\\\Users\\\\User\\\\Downloads'"
            ]
          },
          "execution_count": 24,
          "metadata": {},
          "output_type": "execute_result"
        }
      ],
      "source": [
        "current_dir = os.getcwd()\n",
        "current_dir"
      ]
    },
    {
      "cell_type": "markdown",
      "metadata": {
        "id": "-mavJ8DibrcQ"
      },
      "source": [
        "# Set Data Directory"
      ]
    },
    {
      "cell_type": "markdown",
      "metadata": {},
      "source": [
        "### Setup and Data Preparation"
      ]
    },
    {
      "cell_type": "code",
      "execution_count": 25,
      "metadata": {},
      "outputs": [
        {
          "name": "stdout",
          "output_type": "stream",
          "text": [
            "Training set: 2620 samples\n",
            "Test set: 656 samples\n",
            "\n",
            "Missing values after imputation:\n",
            "ph                 0\n",
            "Hardness           0\n",
            "Solids             0\n",
            "Chloramines        0\n",
            "Sulfate            0\n",
            "Conductivity       0\n",
            "Organic_carbon     0\n",
            "Trihalomethanes    0\n",
            "Turbidity          0\n",
            "dtype: int64\n"
          ]
        }
      ],
      "source": [
        "import pandas as pd\n",
        "from sklearn.model_selection import train_test_split\n",
        "from sklearn.impute import SimpleImputer\n",
        "\n",
        "df = pd.read_csv(\"./data/water_potability_processed.csv\")\n",
        "\n",
        "imputer = SimpleImputer(strategy='median')\n",
        "X = df.drop('Potability', axis=1)\n",
        "y = df['Potability']\n",
        "X_imputed = pd.DataFrame(imputer.fit_transform(X), columns=X.columns)\n",
        "\n",
        "X_train, X_test, y_train, y_test = train_test_split(\n",
        "    X_imputed, y, test_size=0.2, random_state=42, stratify=y\n",
        ")\n",
        "\n",
        "print(f\"Training set: {X_train.shape[0]} samples\")\n",
        "print(f\"Test set: {X_test.shape[0]} samples\")\n",
        "print(\"\\nMissing values after imputation:\")\n",
        "print(X_train.isna().sum())"
      ]
    },
    {
      "cell_type": "markdown",
      "metadata": {},
      "source": [
        "### Baseline Models"
      ]
    },
    {
      "cell_type": "code",
      "execution_count": 26,
      "metadata": {},
      "outputs": [
        {
          "name": "stdout",
          "output_type": "stream",
          "text": [
            "🚀 Starting model evaluation...\n",
            "\n",
            "🔍 Evaluating Random Forest...\n",
            "✅ Random Forest completed successfully\n",
            "   Accuracy: 0.659, ROC AUC: 0.641\n",
            "   Most important feature: ph\n",
            "--------------------------------------------------\n",
            "🔍 Evaluating XGBoost...\n"
          ]
        },
        {
          "name": "stderr",
          "output_type": "stream",
          "text": [
            "c:\\Users\\User\\Downloads\\water-potability\\water-potability\\.venv\\Lib\\site-packages\\xgboost\\data.py:312: FutureWarning: is_sparse is deprecated and will be removed in a future version. Check `isinstance(dtype, pd.SparseDtype)` instead.\n",
            "  if is_sparse(dtype):\n",
            "c:\\Users\\User\\Downloads\\water-potability\\water-potability\\.venv\\Lib\\site-packages\\xgboost\\data.py:314: FutureWarning: is_categorical_dtype is deprecated and will be removed in a future version. Use isinstance(dtype, CategoricalDtype) instead\n",
            "  elif is_categorical_dtype(dtype) and enable_categorical:\n",
            "c:\\Users\\User\\Downloads\\water-potability\\water-potability\\.venv\\Lib\\site-packages\\xgboost\\data.py:345: FutureWarning: is_categorical_dtype is deprecated and will be removed in a future version. Use isinstance(dtype, CategoricalDtype) instead\n",
            "  if is_categorical_dtype(dtype)\n",
            "c:\\Users\\User\\Downloads\\water-potability\\water-potability\\.venv\\Lib\\site-packages\\xgboost\\data.py:336: FutureWarning: is_categorical_dtype is deprecated and will be removed in a future version. Use isinstance(dtype, CategoricalDtype) instead\n",
            "  return is_int or is_bool or is_float or is_categorical_dtype(dtype)\n",
            "c:\\Users\\User\\Downloads\\water-potability\\water-potability\\.venv\\Lib\\site-packages\\xgboost\\data.py:440: FutureWarning: is_sparse is deprecated and will be removed in a future version. Check `isinstance(dtype, pd.SparseDtype)` instead.\n",
            "  if is_sparse(data):\n",
            "c:\\Users\\User\\Downloads\\water-potability\\water-potability\\.venv\\Lib\\site-packages\\xgboost\\data.py:312: FutureWarning: is_sparse is deprecated and will be removed in a future version. Check `isinstance(dtype, pd.SparseDtype)` instead.\n",
            "  if is_sparse(dtype):\n",
            "c:\\Users\\User\\Downloads\\water-potability\\water-potability\\.venv\\Lib\\site-packages\\xgboost\\data.py:314: FutureWarning: is_categorical_dtype is deprecated and will be removed in a future version. Use isinstance(dtype, CategoricalDtype) instead\n",
            "  elif is_categorical_dtype(dtype) and enable_categorical:\n",
            "c:\\Users\\User\\Downloads\\water-potability\\water-potability\\.venv\\Lib\\site-packages\\xgboost\\data.py:345: FutureWarning: is_categorical_dtype is deprecated and will be removed in a future version. Use isinstance(dtype, CategoricalDtype) instead\n",
            "  if is_categorical_dtype(dtype)\n",
            "c:\\Users\\User\\Downloads\\water-potability\\water-potability\\.venv\\Lib\\site-packages\\xgboost\\data.py:336: FutureWarning: is_categorical_dtype is deprecated and will be removed in a future version. Use isinstance(dtype, CategoricalDtype) instead\n",
            "  return is_int or is_bool or is_float or is_categorical_dtype(dtype)\n",
            "c:\\Users\\User\\Downloads\\water-potability\\water-potability\\.venv\\Lib\\site-packages\\xgboost\\data.py:312: FutureWarning: is_sparse is deprecated and will be removed in a future version. Check `isinstance(dtype, pd.SparseDtype)` instead.\n",
            "  if is_sparse(dtype):\n",
            "c:\\Users\\User\\Downloads\\water-potability\\water-potability\\.venv\\Lib\\site-packages\\xgboost\\data.py:314: FutureWarning: is_categorical_dtype is deprecated and will be removed in a future version. Use isinstance(dtype, CategoricalDtype) instead\n",
            "  elif is_categorical_dtype(dtype) and enable_categorical:\n",
            "c:\\Users\\User\\Downloads\\water-potability\\water-potability\\.venv\\Lib\\site-packages\\xgboost\\data.py:345: FutureWarning: is_categorical_dtype is deprecated and will be removed in a future version. Use isinstance(dtype, CategoricalDtype) instead\n",
            "  if is_categorical_dtype(dtype)\n",
            "c:\\Users\\User\\Downloads\\water-potability\\water-potability\\.venv\\Lib\\site-packages\\xgboost\\data.py:336: FutureWarning: is_categorical_dtype is deprecated and will be removed in a future version. Use isinstance(dtype, CategoricalDtype) instead\n",
            "  return is_int or is_bool or is_float or is_categorical_dtype(dtype)\n"
          ]
        },
        {
          "name": "stdout",
          "output_type": "stream",
          "text": [
            "✅ XGBoost completed successfully\n",
            "   Accuracy: 0.642, ROC AUC: 0.643\n",
            "   Most important feature: ph\n",
            "--------------------------------------------------\n",
            "🔍 Evaluating SVM...\n",
            "✅ SVM completed successfully\n",
            "   Accuracy: 0.610, ROC AUC: 0.530\n",
            "--------------------------------------------------\n",
            "🔍 Evaluating Gradient Boosting...\n",
            "✅ Gradient Boosting completed successfully\n",
            "   Accuracy: 0.652, ROC AUC: 0.629\n",
            "   Most important feature: ph\n",
            "--------------------------------------------------\n",
            "🔍 Evaluating HistGradientBoosting...\n",
            "✅ HistGradientBoosting completed successfully\n",
            "   Accuracy: 0.665, ROC AUC: 0.643\n",
            "--------------------------------------------------\n",
            "\n",
            "📊 Model Performance Summary:\n"
          ]
        },
        {
          "data": {
            "text/html": [
              "<style type=\"text/css\">\n",
              "#T_e7352_row0_col0 {\n",
              "  background-color: #21318d;\n",
              "  color: #f1f1f1;\n",
              "}\n",
              "#T_e7352_row0_col1 {\n",
              "  background-color: #0d2163;\n",
              "  color: #f1f1f1;\n",
              "}\n",
              "#T_e7352_row0_col2 {\n",
              "  background-color: #880026;\n",
              "  color: #f1f1f1;\n",
              "}\n",
              "#T_e7352_row0_col3 {\n",
              "  background-color: #e1191d;\n",
              "  color: #f1f1f1;\n",
              "}\n",
              "#T_e7352_row0_col4 {\n",
              "  background-color: #c20325;\n",
              "  color: #f1f1f1;\n",
              "}\n",
              "#T_e7352_row1_col0 {\n",
              "  background-color: #299dc1;\n",
              "  color: #f1f1f1;\n",
              "}\n",
              "#T_e7352_row1_col1 {\n",
              "  background-color: #091e5a;\n",
              "  color: #f1f1f1;\n",
              "}\n",
              "#T_e7352_row1_col2 {\n",
              "  background-color: #c00225;\n",
              "  color: #f1f1f1;\n",
              "}\n",
              "#T_e7352_row1_col3, #T_e7352_row3_col2, #T_e7352_row4_col4 {\n",
              "  background-color: #800026;\n",
              "  color: #f1f1f1;\n",
              "}\n",
              "#T_e7352_row1_col4 {\n",
              "  background-color: #8b0026;\n",
              "  color: #f1f1f1;\n",
              "}\n",
              "#T_e7352_row2_col0, #T_e7352_row2_col1 {\n",
              "  background-color: #ffffd9;\n",
              "  color: #000000;\n",
              "}\n",
              "#T_e7352_row2_col2, #T_e7352_row2_col3, #T_e7352_row2_col4 {\n",
              "  background-color: #ffffcc;\n",
              "  color: #000000;\n",
              "}\n",
              "#T_e7352_row3_col0 {\n",
              "  background-color: #2354a3;\n",
              "  color: #f1f1f1;\n",
              "}\n",
              "#T_e7352_row3_col1 {\n",
              "  background-color: #253595;\n",
              "  color: #f1f1f1;\n",
              "}\n",
              "#T_e7352_row3_col3 {\n",
              "  background-color: #fc512b;\n",
              "  color: #f1f1f1;\n",
              "}\n",
              "#T_e7352_row3_col4 {\n",
              "  background-color: #e31a1c;\n",
              "  color: #f1f1f1;\n",
              "}\n",
              "#T_e7352_row4_col0, #T_e7352_row4_col1 {\n",
              "  background-color: #081d58;\n",
              "  color: #f1f1f1;\n",
              "}\n",
              "#T_e7352_row4_col2 {\n",
              "  background-color: #990026;\n",
              "  color: #f1f1f1;\n",
              "}\n",
              "#T_e7352_row4_col3 {\n",
              "  background-color: #8a0026;\n",
              "  color: #f1f1f1;\n",
              "}\n",
              "</style>\n",
              "<table id=\"T_e7352\">\n",
              "  <caption>Model Comparison Results</caption>\n",
              "  <thead>\n",
              "    <tr>\n",
              "      <th class=\"blank level0\" >&nbsp;</th>\n",
              "      <th id=\"T_e7352_level0_col0\" class=\"col_heading level0 col0\" >Accuracy</th>\n",
              "      <th id=\"T_e7352_level0_col1\" class=\"col_heading level0 col1\" >ROC AUC</th>\n",
              "      <th id=\"T_e7352_level0_col2\" class=\"col_heading level0 col2\" >Precision</th>\n",
              "      <th id=\"T_e7352_level0_col3\" class=\"col_heading level0 col3\" >Recall</th>\n",
              "      <th id=\"T_e7352_level0_col4\" class=\"col_heading level0 col4\" >F1</th>\n",
              "      <th id=\"T_e7352_level0_col5\" class=\"col_heading level0 col5\" >Top Feature</th>\n",
              "    </tr>\n",
              "  </thead>\n",
              "  <tbody>\n",
              "    <tr>\n",
              "      <th id=\"T_e7352_level0_row0\" class=\"row_heading level0 row0\" >Random Forest</th>\n",
              "      <td id=\"T_e7352_row0_col0\" class=\"data row0 col0\" >0.659</td>\n",
              "      <td id=\"T_e7352_row0_col1\" class=\"data row0 col1\" >0.641</td>\n",
              "      <td id=\"T_e7352_row0_col2\" class=\"data row0 col2\" >0.631</td>\n",
              "      <td id=\"T_e7352_row0_col3\" class=\"data row0 col3\" >0.301</td>\n",
              "      <td id=\"T_e7352_row0_col4\" class=\"data row0 col4\" >0.407</td>\n",
              "      <td id=\"T_e7352_row0_col5\" class=\"data row0 col5\" >ph</td>\n",
              "    </tr>\n",
              "    <tr>\n",
              "      <th id=\"T_e7352_level0_row1\" class=\"row_heading level0 row1\" >XGBoost</th>\n",
              "      <td id=\"T_e7352_row1_col0\" class=\"data row1 col0\" >0.642</td>\n",
              "      <td id=\"T_e7352_row1_col1\" class=\"data row1 col1\" >0.643</td>\n",
              "      <td id=\"T_e7352_row1_col2\" class=\"data row1 col2\" >0.557</td>\n",
              "      <td id=\"T_e7352_row1_col3\" class=\"data row1 col3\" >0.398</td>\n",
              "      <td id=\"T_e7352_row1_col4\" class=\"data row1 col4\" >0.465</td>\n",
              "      <td id=\"T_e7352_row1_col5\" class=\"data row1 col5\" >ph</td>\n",
              "    </tr>\n",
              "    <tr>\n",
              "      <th id=\"T_e7352_level0_row2\" class=\"row_heading level0 row2\" >SVM</th>\n",
              "      <td id=\"T_e7352_row2_col0\" class=\"data row2 col0\" >0.610</td>\n",
              "      <td id=\"T_e7352_row2_col1\" class=\"data row2 col1\" >0.530</td>\n",
              "      <td id=\"T_e7352_row2_col2\" class=\"data row2 col2\" >0.000</td>\n",
              "      <td id=\"T_e7352_row2_col3\" class=\"data row2 col3\" >0.000</td>\n",
              "      <td id=\"T_e7352_row2_col4\" class=\"data row2 col4\" >0.000</td>\n",
              "      <td id=\"T_e7352_row2_col5\" class=\"data row2 col5\" >nan</td>\n",
              "    </tr>\n",
              "    <tr>\n",
              "      <th id=\"T_e7352_level0_row3\" class=\"row_heading level0 row3\" >Gradient Boosting</th>\n",
              "      <td id=\"T_e7352_row3_col0\" class=\"data row3 col0\" >0.652</td>\n",
              "      <td id=\"T_e7352_row3_col1\" class=\"data row3 col1\" >0.629</td>\n",
              "      <td id=\"T_e7352_row3_col2\" class=\"data row3 col2\" >0.643</td>\n",
              "      <td id=\"T_e7352_row3_col3\" class=\"data row3 col3\" >0.246</td>\n",
              "      <td id=\"T_e7352_row3_col4\" class=\"data row3 col4\" >0.356</td>\n",
              "      <td id=\"T_e7352_row3_col5\" class=\"data row3 col5\" >ph</td>\n",
              "    </tr>\n",
              "    <tr>\n",
              "      <th id=\"T_e7352_level0_row4\" class=\"row_heading level0 row4\" >HistGradientBoosting</th>\n",
              "      <td id=\"T_e7352_row4_col0\" class=\"data row4 col0\" >0.665</td>\n",
              "      <td id=\"T_e7352_row4_col1\" class=\"data row4 col1\" >0.643</td>\n",
              "      <td id=\"T_e7352_row4_col2\" class=\"data row4 col2\" >0.610</td>\n",
              "      <td id=\"T_e7352_row4_col3\" class=\"data row4 col3\" >0.391</td>\n",
              "      <td id=\"T_e7352_row4_col4\" class=\"data row4 col4\" >0.476</td>\n",
              "      <td id=\"T_e7352_row4_col5\" class=\"data row4 col5\" >nan</td>\n",
              "    </tr>\n",
              "  </tbody>\n",
              "</table>\n"
            ],
            "text/plain": [
              "<pandas.io.formats.style.Styler at 0x1369e623e60>"
            ]
          },
          "metadata": {},
          "output_type": "display_data"
        },
        {
          "name": "stdout",
          "output_type": "stream",
          "text": [
            "\n",
            "💾 Results saved to: C:\\Users\\User\\Downloads\\results\\model_comparison.csv\n",
            "\n",
            "🏆 Best Model: HistGradientBoosting (ROC AUC: 0.643)\n"
          ]
        },
        {
          "data": {
            "image/png": "[encoded data removed]",
            "text/plain": [
              "<Figure size 800x600 with 2 Axes>"
            ]
          },
          "metadata": {},
          "output_type": "display_data"
        },
        {
          "name": "stdout",
          "output_type": "stream",
          "text": [
            "\n",
            "📝 Classification Report:\n",
            "              precision    recall  f1-score   support\n",
            "\n",
            "           0       0.68      0.84      0.75       400\n",
            "           1       0.61      0.39      0.48       256\n",
            "\n",
            "    accuracy                           0.66       656\n",
            "   macro avg       0.65      0.62      0.61       656\n",
            "weighted avg       0.65      0.66      0.65       656\n",
            "\n"
          ]
        }
      ],
      "source": [
        "import os\n",
        "import pandas as pd\n",
        "import numpy as np\n",
        "import matplotlib.pyplot as plt\n",
        "import seaborn as sns\n",
        "from pathlib import Path\n",
        "from sklearn.ensemble import (RandomForestClassifier, \n",
        "                            GradientBoostingClassifier, \n",
        "                            HistGradientBoostingClassifier)\n",
        "from xgboost import XGBClassifier\n",
        "from sklearn.svm import SVC\n",
        "from sklearn.metrics import (accuracy_score, roc_auc_score, \n",
        "                           classification_report, confusion_matrix,\n",
        "                           precision_score, recall_score, f1_score)\n",
        "\n",
        "results_dir = Path(\"./results\")\n",
        "results_dir.mkdir(exist_ok=True, parents=True)\n",
        "\n",
        "models = {\n",
        "    'Random Forest': RandomForestClassifier(random_state=42),\n",
        "    'XGBoost': XGBClassifier(random_state=42, eval_metric='logloss'),\n",
        "    'SVM': SVC(probability=True, random_state=42),\n",
        "    'Gradient Boosting': GradientBoostingClassifier(random_state=42),\n",
        "    'HistGradientBoosting': HistGradientBoostingClassifier(random_state=42)\n",
        "}\n",
        "\n",
        "def evaluate_model(model, X_train, X_test, y_train, y_test):\n",
        "    try:\n",
        "        model.fit(X_train, y_train)\n",
        "\n",
        "        y_pred = model.predict(X_test)\n",
        "        proba = model.predict_proba(X_test)[:, 1] if hasattr(model, \"predict_proba\") else np.zeros(len(y_test))\n",
        "        \n",
        "        metrics = {\n",
        "            'Accuracy': accuracy_score(y_test, y_pred),\n",
        "            'ROC AUC': roc_auc_score(y_test, proba),\n",
        "            'Precision': precision_score(y_test, y_pred, zero_division=0),\n",
        "            'Recall': recall_score(y_test, y_pred, zero_division=0),\n",
        "            'F1': f1_score(y_test, y_pred, zero_division=0),\n",
        "            'Fit Success': True\n",
        "        }\n",
        "        \n",
        "        if hasattr(model, 'feature_importances_'):\n",
        "            feature_imp = pd.Series(model.feature_importances_, index=X_train.columns)\n",
        "            metrics['Top Feature'] = feature_imp.idxmax()\n",
        "            \n",
        "        return metrics\n",
        "        \n",
        "    except Exception as e:\n",
        "        print(f\"⚠️ Error in {model.__class__.__name__}: {str(e)}\")\n",
        "        return {\n",
        "            'Accuracy': np.nan,\n",
        "            'ROC AUC': np.nan,\n",
        "            'Precision': np.nan,\n",
        "            'Recall': np.nan,\n",
        "            'F1': np.nan,\n",
        "            'Top Feature': np.nan,\n",
        "            'Fit Success': False\n",
        "        }\n",
        "\n",
        "results = {}\n",
        "print(\"🚀 Starting model evaluation...\\n\")\n",
        "for name, model in models.items():\n",
        "    print(f\"🔍 Evaluating {name}...\")\n",
        "    results[name] = evaluate_model(model, X_train, X_test, y_train, y_test)\n",
        "    if results[name]['Fit Success']:\n",
        "        print(f\"✅ {name} completed successfully\")\n",
        "        print(f\"   Accuracy: {results[name]['Accuracy']:.3f}, ROC AUC: {results[name]['ROC AUC']:.3f}\")\n",
        "        if 'Top Feature' in results[name]:\n",
        "            print(f\"   Most important feature: {results[name]['Top Feature']}\")\n",
        "    else:\n",
        "        print(f\"❌ {name} encountered issues\")\n",
        "    print(\"-\" * 50)\n",
        "\n",
        "results_df = pd.DataFrame.from_dict(results, orient='index')\n",
        "results_df = results_df.drop('Fit Success', axis=1)\n",
        "\n",
        "print(\"\\n📊 Model Performance Summary:\")\n",
        "\n",
        "numeric_cols = ['Accuracy', 'ROC AUC', 'Precision', 'Recall', 'F1']\n",
        "styled_results = results_df.style\\\n",
        "    .background_gradient(cmap='YlGnBu', subset=['Accuracy', 'ROC AUC'])\\\n",
        "    .background_gradient(cmap='YlOrRd', subset=['Precision', 'Recall', 'F1'])\\\n",
        "    .format(\"{:.3f}\", subset=numeric_cols, na_rep=\"Failed\")\\\n",
        "    .set_caption(\"Model Comparison Results\")\n",
        "display(styled_results)\n",
        "\n",
        "results_path = results_dir / \"model_comparison.csv\"\n",
        "results_df.to_csv(results_path)\n",
        "print(f\"\\n💾 Results saved to: {results_path.resolve()}\")\n",
        "\n",
        "best_model_name = results_df['ROC AUC'].idxmax()\n",
        "best_model = models[best_model_name]\n",
        "print(f\"\\n🏆 Best Model: {best_model_name} (ROC AUC: {results_df.loc[best_model_name]['ROC AUC']:.3f})\")\n",
        "\n",
        "y_pred = best_model.predict(X_test)\n",
        "plt.figure(figsize=(8, 6))\n",
        "sns.heatmap(confusion_matrix(y_test, y_pred), \n",
        "            annot=True, fmt='d', cmap='Blues',\n",
        "            xticklabels=['Not Potable', 'Potable'],\n",
        "            yticklabels=['Not Potable', 'Potable'])\n",
        "plt.title(f'Confusion Matrix for {best_model_name}')\n",
        "plt.ylabel('True Label')\n",
        "plt.xlabel('Predicted Label')\n",
        "plt.show()\n",
        "\n",
        "print(\"\\n📝 Classification Report:\")\n",
        "print(classification_report(y_test, y_pred))"
      ]
    },
    {
      "cell_type": "markdown",
      "metadata": {},
      "source": [
        "### Hyperparameter Tuning"
      ]
    },
    {
      "cell_type": "code",
      "execution_count": 27,
      "metadata": {},
      "outputs": [
        {
          "name": "stdout",
          "output_type": "stream",
          "text": [
            "🚀 Starting randomized search (faster than grid search)...\n",
            "Fitting 3 folds for each of 50 candidates, totalling 150 fits\n",
            "✅ Search completed!\n",
            "\n",
            "📊 Best Parameters: {'n_estimators': 300, 'min_samples_split': 10, 'min_samples_leaf': 4, 'max_features': 'log2', 'max_depth': 25, 'bootstrap': False}\n",
            "🏆 Best ROC AUC Score: 0.6775858140831237\n",
            "\n",
            "🧪 Test Set Performance:\n",
            "ROC AUC: 0.656\n",
            "Accuracy: 0.671\n",
            "F1 Score: 0.446\n"
          ]
        },
        {
          "data": {
            "image/png": "[encoded data removed]",
            "text/plain": [
              "<Figure size 1000x600 with 1 Axes>"
            ]
          },
          "metadata": {},
          "output_type": "display_data"
        },
        {
          "data": {
            "text/plain": [
              "['best_random_forest_model.pkl']"
            ]
          },
          "execution_count": 27,
          "metadata": {},
          "output_type": "execute_result"
        }
      ],
      "source": [
        "from sklearn.model_selection import RandomizedSearchCV\n",
        "import numpy as np\n",
        "\n",
        "param_dist = {\n",
        "    'n_estimators': [100, 150, 200, 250, 300],\n",
        "    'max_depth': [None, 5, 10, 15, 20, 25, 30],\n",
        "    'min_samples_split': [2, 3, 5, 7, 10],\n",
        "    'min_samples_leaf': [1, 2, 3, 4],\n",
        "    'max_features': ['sqrt', 'log2'],\n",
        "    'bootstrap': [True, False]\n",
        "}\n",
        "\n",
        "rf = RandomForestClassifier(random_state=42)\n",
        "\n",
        "random_search = RandomizedSearchCV(\n",
        "    estimator=rf,\n",
        "    param_distributions=param_dist,\n",
        "    n_iter=50,\n",
        "    cv=3,\n",
        "    scoring='roc_auc',\n",
        "    n_jobs=-1,\n",
        "    verbose=2,\n",
        "    random_state=42\n",
        ")\n",
        "\n",
        "print(\"🚀 Starting randomized search (faster than grid search)...\")\n",
        "random_search.fit(X_train, y_train)\n",
        "print(\"✅ Search completed!\")\n",
        "\n",
        "print(\"\\n📊 Best Parameters:\", random_search.best_params_)\n",
        "print(\"🏆 Best ROC AUC Score:\", random_search.best_score_)\n",
        "\n",
        "best_rf = random_search.best_estimator_\n",
        "y_pred = best_rf.predict(X_test)\n",
        "y_proba = best_rf.predict_proba(X_test)[:, 1]\n",
        "\n",
        "print(\"\\n🧪 Test Set Performance:\")\n",
        "print(f\"ROC AUC: {roc_auc_score(y_test, y_proba):.3f}\")\n",
        "print(f\"Accuracy: {accuracy_score(y_test, y_pred):.3f}\")\n",
        "print(f\"F1 Score: {f1_score(y_test, y_pred):.3f}\")\n",
        "\n",
        "feature_importances = pd.Series(best_rf.feature_importances_, index=X_train.columns)\n",
        "plt.figure(figsize=(10, 6))\n",
        "feature_importances.sort_values().plot(kind='barh')\n",
        "plt.title('Feature Importances from Optimized Random Forest Model')\n",
        "plt.xlabel('Relative Importance')\n",
        "plt.ylabel('Features')\n",
        "plt.tight_layout()\n",
        "plt.show()\n",
        "\n",
        "import joblib\n",
        "joblib.dump(best_rf, 'best_random_forest_model.pkl')"
      ]
    },
    {
      "cell_type": "markdown",
      "metadata": {},
      "source": [
        "### Save Evaluated Model"
      ]
    },
    {
      "cell_type": "code",
      "execution_count": 28,
      "metadata": {},
      "outputs": [
        {
          "name": "stdout",
          "output_type": "stream",
          "text": [
            "Model saved to: C:\\Users\\User\\Downloads\\models\\best_random_forest_model.pkl\n"
          ]
        }
      ],
      "source": [
        "import os\n",
        "from pathlib import Path\n",
        "\n",
        "models_dir = Path(\"./models\")\n",
        "models_dir.mkdir(exist_ok=True, parents=True)\n",
        "\n",
        "model_path = models_dir / \"best_random_forest_model.pkl\"\n",
        "joblib.dump(best_rf, model_path)\n",
        "print(f\"Model saved to: {model_path.resolve()}\")"
      ]
    },
    {
      "cell_type": "markdown",
      "metadata": {
        "id": "ZY3l0-AxO93d"
      },
      "source": [
        "---"
      ]
    },
    {
      "cell_type": "markdown",
      "metadata": {
        "id": "uFQo3ycuO-v6"
      },
      "source": [
        "# Section 2"
      ]
    },
    {
      "cell_type": "markdown",
      "metadata": {},
      "source": [
        "---"
      ]
    },
    {
      "cell_type": "markdown",
      "metadata": {
        "id": "ltNetd085qHf"
      },
      "source": [
        "# Push files to Repo"
      ]
    },
    {
      "cell_type": "markdown",
      "metadata": {},
      "source": [
        "* If you do not need to push files to Repo, you may replace this section with \"Conclusions and Next Steps\" and state your conclusions and next steps."
      ]
    },
    {
      "cell_type": "markdown",
      "metadata": {},
      "source": [
        "## Push Generated/new files from this section to your Github Repo"
      ]
    },
    {
      "cell_type": "markdown",
      "metadata": {},
      "source": [
        "* Git add ."
      ]
    },
    {
      "cell_type": "code",
      "execution_count": null,
      "metadata": {},
      "outputs": [],
      "source": [
        "!git add ."
      ]
    },
    {
      "cell_type": "markdown",
      "metadata": {},
      "source": [
        "* Git commit"
      ]
    },
    {
      "cell_type": "code",
      "execution_count": null,
      "metadata": {},
      "outputs": [],
      "source": [
        "!git commit -m \"Added Model_Experimentation notebook\""
      ]
    },
    {
      "cell_type": "markdown",
      "metadata": {},
      "source": [
        "* Git push"
      ]
    },
    {
      "cell_type": "code",
      "execution_count": null,
      "metadata": {},
      "outputs": [],
      "source": [
        "!git push origin main"
      ]
    }
  ],
  "metadata": {
    "accelerator": "GPU",
    "colab": {
      "name": "Data Practitioner Jupyter Notebook.ipynb",
      "provenance": [],
      "toc_visible": true
    },
    "kernelspec": {
      "display_name": ".venv",
      "language": "python",
      "name": "python3"
    },
    "language_info": {
      "codemirror_mode": {
        "name": "ipython",
        "version": 3
      },
      "file_extension": ".py",
      "mimetype": "text/x-python",
      "name": "python",
      "nbconvert_exporter": "python",
      "pygments_lexer": "ipython3",
      "version": "3.12.8"
    },
    "orig_nbformat": 2
  },
  "nbformat": 4,
  "nbformat_minor": 2
}
